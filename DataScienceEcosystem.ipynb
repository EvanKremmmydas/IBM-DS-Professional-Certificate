{
 "cells": [
  {
   "cell_type": "markdown",
   "id": "8afb9075",
   "metadata": {},
   "source": [
    "# Data Science Tools and Ecosystem"
   ]
  },
  {
   "cell_type": "markdown",
   "id": "3c6b6ef8",
   "metadata": {},
   "source": [
    "In this notebook, Data Science Tools and Ecosystem are summarized."
   ]
  },
  {
   "cell_type": "markdown",
   "id": "57406a0c",
   "metadata": {},
   "source": [
    "**Objectives:**\n",
    "* List popular languages for data science\n",
    "* List commonly used libraries by Data Scientists\n",
    "* Provide an example of a simple arithmetic expression"
   ]
  },
  {
   "cell_type": "markdown",
   "id": "27fe7766",
   "metadata": {},
   "source": [
    "Some of the popular languages that Data Scientists use are:\n",
    "\n",
    "1. Python\n",
    "2. R\n",
    "3. SQL\n"
   ]
  },
  {
   "cell_type": "markdown",
   "id": "eedc1ee6",
   "metadata": {},
   "source": [
    "Some of the commonly used libraries used by Data Scientists include:\n",
    "\n",
    "1. Scikit\n",
    "2. NumPy\n",
    "3. SciPy\n",
    "4. Matplotlib\n",
    "5. Seaborn"
   ]
  },
  {
   "cell_type": "markdown",
   "id": "64ca1818",
   "metadata": {},
   "source": [
    "|List of Data Science Tools|\n",
    "|--------------------------|\n",
    "|    Jupyter Notebook      |\n",
    "|    Jupyter Lab           |\n",
    "|    RStudio               |\n",
    "|    VSCode                |\n",
    "|    Orange                |\n",
    "\n"
   ]
  },
  {
   "cell_type": "markdown",
   "id": "431d8014",
   "metadata": {},
   "source": [
    "### Below are a few examples of evaluating arithmetic expressions in Python\n"
   ]
  },
  {
   "cell_type": "code",
   "execution_count": 1,
   "id": "7f9a9c88",
   "metadata": {},
   "outputs": [
    {
     "data": {
      "text/plain": [
       "17"
      ]
     },
     "execution_count": 1,
     "metadata": {},
     "output_type": "execute_result"
    }
   ],
   "source": [
    "#This a simple arithmetic expression to mutiply then add integers\n",
    "(3*4)+5"
   ]
  },
  {
   "cell_type": "code",
   "execution_count": 5,
   "id": "2f98213d",
   "metadata": {},
   "outputs": [
    {
     "data": {
      "text/plain": [
       "3.3333333333333335"
      ]
     },
     "execution_count": 5,
     "metadata": {},
     "output_type": "execute_result"
    }
   ],
   "source": [
    "#This will convert 200 minutes to hours by diving by 60.\n",
    "a=200/60\n",
    "a"
   ]
  },
  {
   "cell_type": "markdown",
   "id": "46415916",
   "metadata": {},
   "source": [
    "## Author: \n",
    "Evangelos Kremmydas"
   ]
  },
  {
   "cell_type": "code",
   "execution_count": null,
   "id": "d410a142",
   "metadata": {},
   "outputs": [],
   "source": []
  }
 ],
 "metadata": {
  "kernelspec": {
   "display_name": "Python 3 (ipykernel)",
   "language": "python",
   "name": "python3"
  },
  "language_info": {
   "codemirror_mode": {
    "name": "ipython",
    "version": 3
   },
   "file_extension": ".py",
   "mimetype": "text/x-python",
   "name": "python",
   "nbconvert_exporter": "python",
   "pygments_lexer": "ipython3",
   "version": "3.9.13"
  }
 },
 "nbformat": 4,
 "nbformat_minor": 5
}
